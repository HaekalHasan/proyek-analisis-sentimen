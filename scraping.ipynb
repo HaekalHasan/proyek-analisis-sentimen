{
 "cells": [
  {
   "cell_type": "code",
   "execution_count": 1,
   "id": "df5957ca-c547-4311-9384-8be8e871cb7f",
   "metadata": {},
   "outputs": [
    {
     "name": "stdout",
     "output_type": "stream",
     "text": [
      "Requirement already satisfied: google-play-scraper in c:\\users\\lenovo\\anaconda3\\lib\\site-packages (1.2.7)\n",
      "                               reviewId         userName  \\\n",
      "0  96e40713-482c-4f6b-b168-7862eaf7403a  Pengguna Google   \n",
      "1  ddfcb274-b949-4c28-99a8-d6fae01a483e  Pengguna Google   \n",
      "2  d37c048e-081d-4f2a-afbf-49541689bca6  Pengguna Google   \n",
      "3  b55b53ac-765f-4daf-a980-6076ab81e1ba  Pengguna Google   \n",
      "4  f95cc5ea-7d0b-49a5-90fa-0ee85320771f  Pengguna Google   \n",
      "\n",
      "                                           userImage  \\\n",
      "0  https://play-lh.googleusercontent.com/EGemoI2N...   \n",
      "1  https://play-lh.googleusercontent.com/EGemoI2N...   \n",
      "2  https://play-lh.googleusercontent.com/EGemoI2N...   \n",
      "3  https://play-lh.googleusercontent.com/EGemoI2N...   \n",
      "4  https://play-lh.googleusercontent.com/EGemoI2N...   \n",
      "\n",
      "                                             content  score  thumbsUpCount  \\\n",
      "0  Mulai ada peningkatan kualitas. Walaupun gak s...      5              6   \n",
      "1  kbanyakan bicara di alur cerita, tolong di bik...      3             14   \n",
      "2  Gameplay untuk sekarang terasa monoton dan mem...      1            435   \n",
      "3  pengalaman bermain saya cukup bagus, sebenarny...      5            115   \n",
      "4  gamenya bagus ga montoton ga bikin ngantuk tru...      5              1   \n",
      "\n",
      "      reviewCreatedVersion                  at replyContent repliedAt  \\\n",
      "0  5.5.0_31400259_31451966 2025-04-03 15:07:34         None       NaT   \n",
      "1  5.5.0_31400259_31451966 2025-03-30 10:16:12         None       NaT   \n",
      "2  5.5.0_31400259_31451966 2025-03-26 14:01:33         None       NaT   \n",
      "3  5.5.0_31400259_31451966 2025-03-26 07:21:35         None       NaT   \n",
      "4  5.5.0_31400259_31451966 2025-04-02 21:53:50         None       NaT   \n",
      "\n",
      "                appVersion  \n",
      "0  5.5.0_31400259_31451966  \n",
      "1  5.5.0_31400259_31451966  \n",
      "2  5.5.0_31400259_31451966  \n",
      "3  5.5.0_31400259_31451966  \n",
      "4  5.5.0_31400259_31451966  \n",
      "✅ Ulasan berhasil disimpan ke ulasan_genshin.csv\n"
     ]
    }
   ],
   "source": [
    "# Install library\n",
    "!pip install google-play-scraper\n",
    "\n",
    "from google_play_scraper import reviews_all, Sort\n",
    "import pandas as pd\n",
    "\n",
    "# Scraping ulasan Genshin Impact (ID aplikasinya: com.miHoYo.GenshinImpact)\n",
    "scrapreview = reviews_all(\n",
    "    'com.miHoYo.GenshinImpact',\n",
    "    lang='id',            # Bahasa Indonesia\n",
    "    country='id',         # Region Indonesia\n",
    "    sort=Sort.MOST_RELEVANT,\n",
    "    count=11000           # Target jumlah ulasan\n",
    ")\n",
    "\n",
    "# Konversi ke DataFrame\n",
    "df = pd.DataFrame(scrapreview)\n",
    "\n",
    "# Cek struktur data\n",
    "print(df.head())\n",
    "\n",
    "# Simpan ke CSV\n",
    "df.to_csv(\"ulasan_genshin.csv\", index=False, encoding='utf-8')\n",
    "print(\"Ulasan berhasil disimpan ke ulasan_genshin.csv\")"
   ]
  }
 ],
 "metadata": {
  "kernelspec": {
   "display_name": "Python 3 (ipykernel)",
   "language": "python",
   "name": "python3"
  },
  "language_info": {
   "codemirror_mode": {
    "name": "ipython",
    "version": 3
   },
   "file_extension": ".py",
   "mimetype": "text/x-python",
   "name": "python",
   "nbconvert_exporter": "python",
   "pygments_lexer": "ipython3",
   "version": "3.11.7"
  }
 },
 "nbformat": 4,
 "nbformat_minor": 5
}
